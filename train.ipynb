{
  "nbformat": 4,
  "nbformat_minor": 0,
  "metadata": {
    "colab": {
      "provenance": []
    },
    "kernelspec": {
      "name": "python3",
      "display_name": "Python 3"
    },
    "language_info": {
      "name": "python"
    }
  },
  "cells": [
    {
      "cell_type": "code",
      "execution_count": 2,
      "metadata": {
        "id": "flQfRBNJMQfO",
        "colab": {
          "base_uri": "https://localhost:8080/",
          "height": 383
        },
        "outputId": "cc791ae7-e968-43a9-a2d6-a5e58f34fe44"
      },
      "outputs": [
        {
          "output_type": "error",
          "ename": "ModuleNotFoundError",
          "evalue": "No module named 'utils'",
          "traceback": [
            "\u001b[0;31m---------------------------------------------------------------------------\u001b[0m",
            "\u001b[0;31mModuleNotFoundError\u001b[0m                       Traceback (most recent call last)",
            "\u001b[0;32m<ipython-input-2-6082f3df6b8c>\u001b[0m in \u001b[0;36m<cell line: 2>\u001b[0;34m()\u001b[0m\n\u001b[1;32m      1\u001b[0m \u001b[0;32mimport\u001b[0m  \u001b[0mtorch\u001b[0m\u001b[0;34m\u001b[0m\u001b[0;34m\u001b[0m\u001b[0m\n\u001b[0;32m----> 2\u001b[0;31m \u001b[0;32mfrom\u001b[0m \u001b[0mutils\u001b[0m \u001b[0;32mimport\u001b[0m  \u001b[0msave_checkpoint\u001b[0m\u001b[0;34m,\u001b[0m\u001b[0mload_checkpoint\u001b[0m\u001b[0;34m,\u001b[0m\u001b[0msave_some_examples\u001b[0m\u001b[0;34m\u001b[0m\u001b[0;34m\u001b[0m\u001b[0m\n\u001b[0m\u001b[1;32m      3\u001b[0m \u001b[0;32mimport\u001b[0m \u001b[0mtorch\u001b[0m\u001b[0;34m.\u001b[0m\u001b[0mnn\u001b[0m \u001b[0;32mas\u001b[0m \u001b[0mnn\u001b[0m\u001b[0;34m\u001b[0m\u001b[0;34m\u001b[0m\u001b[0m\n\u001b[1;32m      4\u001b[0m \u001b[0;32mimport\u001b[0m \u001b[0mtorch\u001b[0m\u001b[0;34m.\u001b[0m\u001b[0moptim\u001b[0m \u001b[0;32mas\u001b[0m \u001b[0moptim\u001b[0m\u001b[0;34m\u001b[0m\u001b[0;34m\u001b[0m\u001b[0m\n\u001b[1;32m      5\u001b[0m \u001b[0;32mimport\u001b[0m \u001b[0mconfig\u001b[0m\u001b[0;34m\u001b[0m\u001b[0;34m\u001b[0m\u001b[0m\n",
            "\u001b[0;31mModuleNotFoundError\u001b[0m: No module named 'utils'",
            "",
            "\u001b[0;31m---------------------------------------------------------------------------\u001b[0;32m\nNOTE: If your import is failing due to a missing package, you can\nmanually install dependencies using either !pip or !apt.\n\nTo view examples of installing some common dependencies, click the\n\"Open Examples\" button below.\n\u001b[0;31m---------------------------------------------------------------------------\u001b[0m\n"
          ],
          "errorDetails": {
            "actions": [
              {
                "action": "open_url",
                "actionText": "Open Examples",
                "url": "/notebooks/snippets/importing_libraries.ipynb"
              }
            ]
          }
        }
      ],
      "source": [
        "import  torch\n",
        "from utils import  save_checkpoint,load_checkpoint,save_some_examples\n",
        "import torch.nn as nn\n",
        "import torch.optim as optim\n",
        "import config\n",
        "from dataset import MapDataset\n",
        "from Generator import Generator\n",
        "from Discriminator import Discriminator\n",
        "from torch.utils.data import DataLoader\n",
        "from tqdm import tqdm\n",
        "from torchvision.utils import save_image"
      ]
    },
    {
      "cell_type": "code",
      "source": [
        "def train_function(disc,gen,loader,opt_disc,opt_gen,l1,bce,g_scaler,d_scaler):\n",
        "  loop=tqdm(loader,leave=True)\n",
        "\n",
        "  for idx,(x,y) in enumerate(loop):\n",
        "    x,y=x.to(config.DEVICE),y.to(config.DEVICE)\n",
        "\n",
        "\n",
        "    #TRAIN DISCRIMINATOR\n",
        "    with torch.cuda.amp.autocast():\n",
        "      y_fake=gen(x)\n",
        "      D_real=disc(x,y)\n",
        "      D_fake=disc(x,y_fake.detach())\n",
        "      D_real_loss=bce(D_real,torch.ones_like(D_real))\n",
        "      D_fake_loss=bce(D_fake,torch.zeros_like(D_fake))\n",
        "      D_loss=(D_real_loss+D_fake_loss)/2\n",
        "\n",
        "    disc.zero_grad()\n",
        "    d_scaler.sacle(D_loss).backward()\n",
        "    d_scaler.step(opt_disc)\n",
        "    d_scaler.update()\n",
        "\n",
        "    with  torch.cuda.amp.autocast():\n",
        "      G_fake=disc(x,y_fake)\n",
        "      G_fake_loss=bce(G_fake,torch.ones_like(G_fake))\n",
        "      L1=l1(y_fake,y)*config.L1_LAMBDA\n",
        "      G_loss=G_fake_loss+L1\n",
        "\n",
        "\n",
        "    gen.zero_grad()\n",
        "    g_scaler.sacle(G_loss).backward()\n",
        "    g_scaler.step(opt_gen)\n",
        "    g_scaler.update()\n",
        "\n",
        "\n",
        "\n",
        "\n"
      ],
      "metadata": {
        "id": "okrHz6YROCgh"
      },
      "execution_count": 3,
      "outputs": []
    },
    {
      "cell_type": "code",
      "source": [
        "def main():\n",
        "  disc=Discriminator(in_channels=3).to(config.DEVICE)\n",
        "  gen=Generator(in_channels=3).to(config.DEVICE)\n",
        "  opt_disc=optim.Adam(disc.parameters(),lr=config.LEARNING_RATE,betas=(0.5,0.99))\n",
        "  opt_gen=optim.Adam(gen.parameters(),lr=config.LEARNING_RATE,betas=(0.5,0.99))\n",
        "  BCE=nn.BCEWithLogitsLoss()\n",
        "  L1_Loss=nn.L1Loss()\n",
        "\n",
        "  if config.LOAD_MODEL:\n",
        "    load_checkpoint(config.CHECKPOINT_GEN,gen,opt_gen,config.LEARNING_RATE)\n",
        "    load_checkpoint(config.CHECKPOINT_DISC,disc,opt_disc,config.LEARNING_RATE)\n",
        "\n",
        "  train_dataset= MapDataset(root_dir='data/maps/train')\n",
        "  train_loader=DataLoader(train_dataset,batch_size=config.BATCH_SIZE,shuffle=True,num_workers=config.num_workers)\n",
        "  g_scaler=torch.cuda.amp.GradScaler()\n",
        "  d_scaler=torch.cuda.amp.GradScaler()\n",
        "  val_dataset=MapDataset(root_dir='data/maps/val')\n",
        "  val_loader=DataLoader(val_dataset,batch_size=1,shuffle=True)\n",
        "\n",
        "  for epoch in range(config.NUM_EPOCHS):\n",
        "    train_fucntion(disc,gen,train_loader,opt_disc,opt_gen,L1_Loss,BCE,g_scaler,d_scaler)\n",
        "\n",
        "    if config.SAVE_MODEL and epoch%5==0:\n",
        "       save_checkpoint(gen,opt_gen,filename=config.CHECKPOINT_GEN)\n",
        "       save_checkpoint(disc,opt_disc,filename=config.CHECKPOINT_DISC)\n",
        "\n",
        "    save_some_examples(gen,val_loader,epoch,folder='EVALUATION')\n",
        "\n"
      ],
      "metadata": {
        "id": "b9gmt8ruOFwk"
      },
      "execution_count": 4,
      "outputs": []
    },
    {
      "cell_type": "code",
      "source": [
        "if __name__=='__main__':\n",
        "  main()"
      ],
      "metadata": {
        "id": "FUjdjZ7uOS2t",
        "colab": {
          "base_uri": "https://localhost:8080/",
          "height": 280
        },
        "outputId": "7afbff3d-f35d-4013-b5f2-a2ae7d1df4ec"
      },
      "execution_count": 5,
      "outputs": [
        {
          "output_type": "error",
          "ename": "NameError",
          "evalue": "name 'Discriminator' is not defined",
          "traceback": [
            "\u001b[0;31m---------------------------------------------------------------------------\u001b[0m",
            "\u001b[0;31mNameError\u001b[0m                                 Traceback (most recent call last)",
            "\u001b[0;32m<ipython-input-5-b985c2114c26>\u001b[0m in \u001b[0;36m<cell line: 1>\u001b[0;34m()\u001b[0m\n\u001b[1;32m      1\u001b[0m \u001b[0;32mif\u001b[0m \u001b[0m__name__\u001b[0m\u001b[0;34m==\u001b[0m\u001b[0;34m'__main__'\u001b[0m\u001b[0;34m:\u001b[0m\u001b[0;34m\u001b[0m\u001b[0;34m\u001b[0m\u001b[0m\n\u001b[0;32m----> 2\u001b[0;31m   \u001b[0mmain\u001b[0m\u001b[0;34m(\u001b[0m\u001b[0;34m)\u001b[0m\u001b[0;34m\u001b[0m\u001b[0;34m\u001b[0m\u001b[0m\n\u001b[0m",
            "\u001b[0;32m<ipython-input-4-0a83b8224d34>\u001b[0m in \u001b[0;36mmain\u001b[0;34m()\u001b[0m\n\u001b[1;32m      1\u001b[0m \u001b[0;32mdef\u001b[0m \u001b[0mmain\u001b[0m\u001b[0;34m(\u001b[0m\u001b[0;34m)\u001b[0m\u001b[0;34m:\u001b[0m\u001b[0;34m\u001b[0m\u001b[0;34m\u001b[0m\u001b[0m\n\u001b[0;32m----> 2\u001b[0;31m   \u001b[0mdisc\u001b[0m\u001b[0;34m=\u001b[0m\u001b[0mDiscriminator\u001b[0m\u001b[0;34m(\u001b[0m\u001b[0min_channels\u001b[0m\u001b[0;34m=\u001b[0m\u001b[0;36m3\u001b[0m\u001b[0;34m)\u001b[0m\u001b[0;34m.\u001b[0m\u001b[0mto\u001b[0m\u001b[0;34m(\u001b[0m\u001b[0mconfig\u001b[0m\u001b[0;34m.\u001b[0m\u001b[0mDEVICE\u001b[0m\u001b[0;34m)\u001b[0m\u001b[0;34m\u001b[0m\u001b[0;34m\u001b[0m\u001b[0m\n\u001b[0m\u001b[1;32m      3\u001b[0m   \u001b[0mgen\u001b[0m\u001b[0;34m=\u001b[0m\u001b[0mGenerator\u001b[0m\u001b[0;34m(\u001b[0m\u001b[0min_channels\u001b[0m\u001b[0;34m=\u001b[0m\u001b[0;36m3\u001b[0m\u001b[0;34m)\u001b[0m\u001b[0;34m.\u001b[0m\u001b[0mto\u001b[0m\u001b[0;34m(\u001b[0m\u001b[0mconfig\u001b[0m\u001b[0;34m.\u001b[0m\u001b[0mDEVICE\u001b[0m\u001b[0;34m)\u001b[0m\u001b[0;34m\u001b[0m\u001b[0;34m\u001b[0m\u001b[0m\n\u001b[1;32m      4\u001b[0m   \u001b[0mopt_disc\u001b[0m\u001b[0;34m=\u001b[0m\u001b[0moptim\u001b[0m\u001b[0;34m.\u001b[0m\u001b[0mAdam\u001b[0m\u001b[0;34m(\u001b[0m\u001b[0mdisc\u001b[0m\u001b[0;34m.\u001b[0m\u001b[0mparameters\u001b[0m\u001b[0;34m(\u001b[0m\u001b[0;34m)\u001b[0m\u001b[0;34m,\u001b[0m\u001b[0mlr\u001b[0m\u001b[0;34m=\u001b[0m\u001b[0mconfig\u001b[0m\u001b[0;34m.\u001b[0m\u001b[0mLEARNING_RATE\u001b[0m\u001b[0;34m,\u001b[0m\u001b[0mbetas\u001b[0m\u001b[0;34m=\u001b[0m\u001b[0;34m(\u001b[0m\u001b[0;36m0.5\u001b[0m\u001b[0;34m,\u001b[0m\u001b[0;36m0.99\u001b[0m\u001b[0;34m)\u001b[0m\u001b[0;34m)\u001b[0m\u001b[0;34m\u001b[0m\u001b[0;34m\u001b[0m\u001b[0m\n\u001b[1;32m      5\u001b[0m   \u001b[0mopt_gen\u001b[0m\u001b[0;34m=\u001b[0m\u001b[0moptim\u001b[0m\u001b[0;34m.\u001b[0m\u001b[0mAdam\u001b[0m\u001b[0;34m(\u001b[0m\u001b[0mgen\u001b[0m\u001b[0;34m.\u001b[0m\u001b[0mparameters\u001b[0m\u001b[0;34m(\u001b[0m\u001b[0;34m)\u001b[0m\u001b[0;34m,\u001b[0m\u001b[0mlr\u001b[0m\u001b[0;34m=\u001b[0m\u001b[0mconfig\u001b[0m\u001b[0;34m.\u001b[0m\u001b[0mLEARNING_RATE\u001b[0m\u001b[0;34m,\u001b[0m\u001b[0mbetas\u001b[0m\u001b[0;34m=\u001b[0m\u001b[0;34m(\u001b[0m\u001b[0;36m0.5\u001b[0m\u001b[0;34m,\u001b[0m\u001b[0;36m0.99\u001b[0m\u001b[0;34m)\u001b[0m\u001b[0;34m)\u001b[0m\u001b[0;34m\u001b[0m\u001b[0;34m\u001b[0m\u001b[0m\n",
            "\u001b[0;31mNameError\u001b[0m: name 'Discriminator' is not defined"
          ]
        }
      ]
    },
    {
      "cell_type": "code",
      "source": [],
      "metadata": {
        "id": "LnF6Q491OXYx"
      },
      "execution_count": null,
      "outputs": []
    }
  ]
}